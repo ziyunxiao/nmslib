{
 "cells": [
  {
   "cell_type": "code",
   "execution_count": 2,
   "metadata": {},
   "outputs": [
    {
     "name": "stdout",
     "output_type": "stream",
     "text": [
      "3.9.13 (main, May 23 2022, 21:57:12) \n",
      "[GCC 11.2.0]\n",
      "NMSLIB version: 2.1.1\n"
     ]
    }
   ],
   "source": [
    "import numpy \n",
    "import sys \n",
    "import nmslib \n",
    "import time \n",
    "import math \n",
    "from sklearn.neighbors import NearestNeighbors\n",
    "from sklearn.model_selection import train_test_split\n",
    "print(sys.version)\n",
    "print(\"NMSLIB version:\", nmslib.__version__)\n"
   ]
  },
  {
   "cell_type": "code",
   "execution_count": 3,
   "metadata": {},
   "outputs": [],
   "source": [
    "# Just read the data\n",
    "all_data_matrix = numpy.loadtxt('../../sample_data/final128_10K.txt')"
   ]
  },
  {
   "cell_type": "code",
   "execution_count": 4,
   "metadata": {},
   "outputs": [],
   "source": [
    "# Create a held-out query data set\n",
    "(data_matrix, query_matrix) = train_test_split(all_data_matrix, test_size = 0.1)"
   ]
  },
  {
   "cell_type": "code",
   "execution_count": 5,
   "metadata": {},
   "outputs": [
    {
     "name": "stdout",
     "output_type": "stream",
     "text": [
      "# of queries 1000, # of data points 9000\n"
     ]
    }
   ],
   "source": [
    "print(\"# of queries %d, # of data points %d\"  % (query_matrix.shape[0], data_matrix.shape[0]) )"
   ]
  },
  {
   "cell_type": "code",
   "execution_count": 6,
   "metadata": {},
   "outputs": [
    {
     "name": "stdout",
     "output_type": "stream",
     "text": [
      "Index-time parameters {'M': 15, 'indexThreadQty': 4, 'efConstruction': 100, 'post': 0}\n"
     ]
    }
   ],
   "source": [
    "# Set index parameters\n",
    "# These are the most important onese\n",
    "M = 15\n",
    "efC = 100\n",
    "\n",
    "num_threads = 4\n",
    "index_time_params = {'M': M, 'indexThreadQty': num_threads, 'efConstruction': efC, 'post' : 0}\n",
    "print('Index-time parameters', index_time_params)"
   ]
  },
  {
   "cell_type": "code",
   "execution_count": 7,
   "metadata": {},
   "outputs": [],
   "source": [
    "# Number of neighbors \n",
    "K=100"
   ]
  },
  {
   "cell_type": "code",
   "execution_count": 8,
   "metadata": {},
   "outputs": [],
   "source": [
    "# Space name should correspond to the space name \n",
    "# used for brute-force search\n",
    "space_name='l2'"
   ]
  },
  {
   "cell_type": "code",
   "execution_count": 9,
   "metadata": {},
   "outputs": [
    {
     "data": {
      "text/plain": [
       "9000"
      ]
     },
     "execution_count": 9,
     "metadata": {},
     "output_type": "execute_result"
    }
   ],
   "source": [
    "# Intitialize the library, specify the space, the type of the vector and add data points \n",
    "index = nmslib.init(method='hnsw', space=space_name, data_type=nmslib.DataType.DENSE_VECTOR) \n",
    "index.addDataPointBatch(data_matrix) "
   ]
  },
  {
   "cell_type": "code",
   "execution_count": 10,
   "metadata": {},
   "outputs": [
    {
     "name": "stdout",
     "output_type": "stream",
     "text": [
      "Index-time parameters {'M': 15, 'indexThreadQty': 4, 'efConstruction': 100}\n",
      "Indexing time = 0.328718\n"
     ]
    }
   ],
   "source": [
    "# Create an index\n",
    "start = time.time()\n",
    "index_time_params = {'M': M, 'indexThreadQty': num_threads, 'efConstruction': efC}\n",
    "index.createIndex(index_time_params) \n",
    "end = time.time() \n",
    "print('Index-time parameters', index_time_params)\n",
    "print('Indexing time = %f' % (end-start))"
   ]
  },
  {
   "cell_type": "code",
   "execution_count": 11,
   "metadata": {},
   "outputs": [
    {
     "name": "stdout",
     "output_type": "stream",
     "text": [
      "Setting query-time parameters {'efSearch': 100}\n"
     ]
    }
   ],
   "source": [
    "# Setting query-time parameters\n",
    "efS = 100\n",
    "query_time_params = {'efSearch': efS}\n",
    "print('Setting query-time parameters', query_time_params)\n",
    "index.setQueryTimeParams(query_time_params)"
   ]
  },
  {
   "cell_type": "code",
   "execution_count": 12,
   "metadata": {},
   "outputs": [
    {
     "name": "stdout",
     "output_type": "stream",
     "text": [
      "kNN time total=0.037016 (sec), per query=0.000037 (sec), per query adjusted for thread number=0.000148 (sec)\n"
     ]
    }
   ],
   "source": [
    "# Querying\n",
    "query_qty = query_matrix.shape[0]\n",
    "start = time.time() \n",
    "nbrs = index.knnQueryBatch(query_matrix, k = K, num_threads = num_threads)\n",
    "end = time.time() \n",
    "print('kNN time total=%f (sec), per query=%f (sec), per query adjusted for thread number=%f (sec)' % \n",
    "      (end-start, float(end-start)/query_qty, num_threads*float(end-start)/query_qty)) "
   ]
  },
  {
   "cell_type": "code",
   "execution_count": 13,
   "metadata": {},
   "outputs": [
    {
     "name": "stdout",
     "output_type": "stream",
     "text": [
      "Computing gold-standard data\n",
      "Brute-force preparation time 0.001652\n",
      "brute-force kNN time total=0.695983 (sec), per query=0.000696 (sec)\n"
     ]
    }
   ],
   "source": [
    "# Computing gold-standard data \n",
    "print('Computing gold-standard data')\n",
    "\n",
    "start = time.time()\n",
    "sindx = NearestNeighbors(n_neighbors=K, metric='l2', algorithm='brute').fit(data_matrix)\n",
    "end = time.time()\n",
    "\n",
    "print('Brute-force preparation time %f' % (end - start))\n",
    "\n",
    "start = time.time() \n",
    "gs = sindx.kneighbors(query_matrix)\n",
    "end = time.time()\n",
    "\n",
    "print('brute-force kNN time total=%f (sec), per query=%f (sec)' % \n",
    "      (end-start, float(end-start)/query_qty) )"
   ]
  },
  {
   "cell_type": "code",
   "execution_count": 14,
   "metadata": {},
   "outputs": [
    {
     "name": "stdout",
     "output_type": "stream",
     "text": [
      "kNN recall 0.992520\n"
     ]
    }
   ],
   "source": [
    "# Finally computing recall\n",
    "recall=0.0\n",
    "for i in range(0, query_qty):\n",
    "  correct_set = set(gs[1][i])\n",
    "  ret_set = set(nbrs[i][0])\n",
    "  recall = recall + float(len(correct_set.intersection(ret_set))) / len(correct_set)\n",
    "recall = recall / query_qty\n",
    "print('kNN recall %f' % recall)"
   ]
  },
  {
   "cell_type": "code",
   "execution_count": 15,
   "metadata": {},
   "outputs": [],
   "source": [
    "# Save a meta index, but no data!\n",
    "index.saveIndex('dense_index_optim.bin', save_data=False)"
   ]
  },
  {
   "cell_type": "code",
   "execution_count": 16,
   "metadata": {},
   "outputs": [],
   "source": [
    "# Re-intitialize the library, specify the space, the type of the vector.\n",
    "newIndex = nmslib.init(method='hnsw', space=space_name, data_type=nmslib.DataType.DENSE_VECTOR) \n",
    "# For an optimized L2 index, there's no need to re-load data points, but this would be required for\n",
    "# non-optimized index or any other methods different from HNSW (other methods can save only meta indices)\n",
    "#newIndex.addDataPointBatch(data_matrix) "
   ]
  },
  {
   "cell_type": "code",
   "execution_count": 17,
   "metadata": {},
   "outputs": [],
   "source": [
    "# Re-load the index and re-run queries\n",
    "newIndex.loadIndex('dense_index_optim.bin')"
   ]
  },
  {
   "cell_type": "code",
   "execution_count": 23,
   "metadata": {},
   "outputs": [
    {
     "name": "stdout",
     "output_type": "stream",
     "text": [
      "Setting query-time parameters {'efSearch': 100}\n",
      "kNN time total=0.039916 (sec), per query=0.000040 (sec), per query adjusted for thread number=0.000160 (sec)\n",
      "[0.00270098 0.01801973 0.02218262 0.06074424 0.06086846 0.06361715\n",
      " 0.06782023 0.06879169 0.0713936  0.07616136 0.08065243 0.08119275\n",
      " 0.08251369 0.08296454 0.08621208 0.08669227 0.08720806 0.08797651\n",
      " 0.08798739 0.08999468 0.0906682  0.09100393 0.0930972  0.09348261\n",
      " 0.09350233 0.09391692 0.09601999 0.09789868 0.09929319 0.10020437\n",
      " 0.10059278 0.10071577 0.10189154 0.10201125 0.1021492  0.10290202\n",
      " 0.10317906 0.10332359 0.10399057 0.10442822 0.10629443 0.10637057\n",
      " 0.10797795 0.11080971 0.11121096 0.11195159 0.11204608 0.11248356\n",
      " 0.11297312 0.11298401 0.11405149 0.11416586 0.11469842 0.115043\n",
      " 0.11571665 0.1158088  0.11657865 0.11695337 0.11932322 0.1211203\n",
      " 0.12164541 0.12225268 0.12242275 0.12351011 0.12460133 0.12594494\n",
      " 0.12604609 0.12639461 0.12661618 0.12696955 0.12888691 0.13031843\n",
      " 0.13039014 0.13042888 0.13189721 0.13228366 0.13285315 0.13534303\n",
      " 0.13652602 0.13667887 0.13795702 0.13903022 0.14015475 0.14047608\n",
      " 0.14054762 0.14054906 0.14140649 0.14143954 0.14144117 0.14384902\n",
      " 0.14418018 0.14535251 0.14562681 0.14596441 0.14721528 0.14764503\n",
      " 0.14764503 0.15060706 0.15121634 0.15133373]\n"
     ]
    }
   ],
   "source": [
    "# Setting query-time parameters and querying\n",
    "print('Setting query-time parameters', query_time_params)\n",
    "newIndex.setQueryTimeParams(query_time_params)\n",
    "\n",
    "query_qty = query_matrix.shape[0]\n",
    "start = time.time() \n",
    "new_nbrs = newIndex.knnQueryBatch(query_matrix, k = K, num_threads = num_threads)\n",
    "end = time.time() \n",
    "print('kNN time total=%f (sec), per query=%f (sec), per query adjusted for thread number=%f (sec)' % \n",
    "      (end-start, float(end-start)/query_qty, num_threads*float(end-start)/query_qty)) \n",
    "\n",
    "print(new_nbrs[0][1])      "
   ]
  },
  {
   "cell_type": "code",
   "execution_count": 19,
   "metadata": {},
   "outputs": [
    {
     "name": "stdout",
     "output_type": "stream",
     "text": [
      "kNN recall 0.992520\n"
     ]
    }
   ],
   "source": [
    "# Finally computing recall for the new result set\n",
    "recall=0.0\n",
    "for i in range(0, query_qty):\n",
    "  correct_set = set(gs[1][i])\n",
    "  ret_set = set(new_nbrs[i][0])\n",
    "  recall = recall + float(len(correct_set.intersection(ret_set))) / len(correct_set)\n",
    "recall = recall / query_qty\n",
    "print('kNN recall %f' % recall)"
   ]
  }
 ],
 "metadata": {
  "interpreter": {
   "hash": "4499fd137f6c106dfd1717c4df6918022dd2e42707b0d7b7a01cc77a2b3169b9"
  },
  "kernelspec": {
   "display_name": "Python 3.9.13 ('.venv': venv)",
   "language": "python",
   "name": "python3"
  },
  "language_info": {
   "codemirror_mode": {
    "name": "ipython",
    "version": 3
   },
   "file_extension": ".py",
   "mimetype": "text/x-python",
   "name": "python",
   "nbconvert_exporter": "python",
   "pygments_lexer": "ipython3",
   "version": "3.9.13"
  }
 },
 "nbformat": 4,
 "nbformat_minor": 2
}
