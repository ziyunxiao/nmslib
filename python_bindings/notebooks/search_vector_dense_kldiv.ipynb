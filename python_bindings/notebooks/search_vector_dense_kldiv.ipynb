{
 "cells": [
  {
   "cell_type": "code",
   "execution_count": 1,
   "metadata": {},
   "outputs": [
    {
     "name": "stderr",
     "output_type": "stream",
     "text": [
      "Your CPU supports instructions that this binary was not compiled to use: SSE3 SSE4.1 SSE4.2 AVX AVX2\n",
      "For maximum performance, you can install NMSLIB from sources \n",
      "pip install --no-binary :all: nmslib\n"
     ]
    },
    {
     "name": "stdout",
     "output_type": "stream",
     "text": [
      "3.9.13 (main, May 23 2022, 21:57:12) \n",
      "[GCC 11.2.0]\n",
      "NMSLIB version: 2.1.1\n"
     ]
    }
   ],
   "source": [
    "import numpy \n",
    "import sys \n",
    "import nmslib \n",
    "import time \n",
    "import math \n",
    "from sklearn.neighbors import NearestNeighbors\n",
    "from sklearn.model_selection import train_test_split\n",
    "print(sys.version)\n",
    "print(\"NMSLIB version:\", nmslib.__version__)\n"
   ]
  },
  {
   "cell_type": "code",
   "execution_count": 4,
   "metadata": {},
   "outputs": [
    {
     "name": "stdout",
     "output_type": "stream",
     "text": [
      "(10000, 8)\n"
     ]
    }
   ],
   "source": [
    "# Just read the data\n",
    "all_data_matrix = numpy.loadtxt('../../sample_data/final8_10K.txt')\n",
    "\n",
    "print(all_data_matrix.shape)"
   ]
  },
  {
   "cell_type": "code",
   "execution_count": 5,
   "metadata": {},
   "outputs": [],
   "source": [
    "# Create a held-out query data set\n",
    "(data_matrix, query_matrix) = train_test_split(all_data_matrix, test_size = 0.1)"
   ]
  },
  {
   "cell_type": "code",
   "execution_count": 6,
   "metadata": {},
   "outputs": [
    {
     "name": "stdout",
     "output_type": "stream",
     "text": [
      "# of queries 1000, # of data points 9000\n"
     ]
    }
   ],
   "source": [
    "print(\"# of queries %d, # of data points %d\"  % (query_matrix.shape[0], data_matrix.shape[0]) )"
   ]
  },
  {
   "cell_type": "code",
   "execution_count": 7,
   "metadata": {},
   "outputs": [],
   "source": [
    "# Set index parameters\n",
    "# These are the most important onese\n",
    "NN = 15\n",
    "efC = 100\n",
    "\n",
    "num_threads = 4\n",
    "index_time_params = {'NN': NN, 'indexThreadQty': num_threads, 'efConstruction': efC}"
   ]
  },
  {
   "cell_type": "code",
   "execution_count": 8,
   "metadata": {},
   "outputs": [],
   "source": [
    "# Number of neighbors \n",
    "K=100"
   ]
  },
  {
   "cell_type": "code",
   "execution_count": 9,
   "metadata": {},
   "outputs": [],
   "source": [
    "# Space name should correspond to the space name \n",
    "# used for brute-force search\n",
    "space_name='kldivgenfast'"
   ]
  },
  {
   "cell_type": "code",
   "execution_count": 10,
   "metadata": {},
   "outputs": [
    {
     "data": {
      "text/plain": [
       "9000"
      ]
     },
     "execution_count": 10,
     "metadata": {},
     "output_type": "execute_result"
    }
   ],
   "source": [
    "# Intitialize the library, specify the space, the type of the vector and add data points \n",
    "index = nmslib.init(method='sw-graph', space=space_name, data_type=nmslib.DataType.DENSE_VECTOR) \n",
    "index.addDataPointBatch(data_matrix) \n",
    "# https://nmslib.github.io/nmslib/index.html\n"
   ]
  },
  {
   "cell_type": "code",
   "execution_count": 11,
   "metadata": {},
   "outputs": [
    {
     "name": "stdout",
     "output_type": "stream",
     "text": [
      "Index-time parameters {'NN': 15, 'indexThreadQty': 4, 'efConstruction': 100}\n",
      "Indexing time = 0.244212\n"
     ]
    }
   ],
   "source": [
    "# Create an index\n",
    "start = time.time()\n",
    "index.createIndex(index_time_params) \n",
    "end = time.time() \n",
    "print('Index-time parameters', index_time_params)\n",
    "print('Indexing time = %f' % (end-start))"
   ]
  },
  {
   "cell_type": "code",
   "execution_count": 12,
   "metadata": {},
   "outputs": [
    {
     "name": "stdout",
     "output_type": "stream",
     "text": [
      "Setting query-time parameters {'efSearch': 100}\n"
     ]
    }
   ],
   "source": [
    "# Setting query-time parameters\n",
    "efS = 100\n",
    "query_time_params = {'efSearch': efS}\n",
    "print('Setting query-time parameters', query_time_params)\n",
    "index.setQueryTimeParams(query_time_params)"
   ]
  },
  {
   "cell_type": "code",
   "execution_count": 23,
   "metadata": {},
   "outputs": [
    {
     "name": "stdout",
     "output_type": "stream",
     "text": [
      "kNN time total=0.056333 (sec), per query=0.000056 (sec), per query adjusted for thread number=0.000225 (sec)\n"
     ]
    }
   ],
   "source": [
    "# Querying\n",
    "query_qty = query_matrix.shape[0]\n",
    "start = time.time() \n",
    "nbrs = index.knnQueryBatch(query_matrix, k = K, num_threads = num_threads)\n",
    "end = time.time() \n",
    "print('kNN time total=%f (sec), per query=%f (sec), per query adjusted for thread number=%f (sec)' % \n",
    "      (end-start, float(end-start)/query_qty, num_threads*float(end-start)/query_qty)) "
   ]
  },
  {
   "cell_type": "code",
   "execution_count": 21,
   "metadata": {},
   "outputs": [
    {
     "name": "stdout",
     "output_type": "stream",
     "text": [
      "(array([8482, 3344, 7421, 1293, 5378, 1536, 7607, 6453, 1411, 1981, 3393,\n",
      "       7694, 3608, 1158, 5541, 6963, 3026, 5127,  109, 7625, 6731, 7887,\n",
      "       2546, 7647, 8900, 8434, 7524,  736, 2510, 4368, 8130, 2383, 5925,\n",
      "       7689, 4366, 1162, 3681, 5414, 5037, 7821, 4362, 7470, 7416,  393,\n",
      "       1646, 8196, 3231, 8682, 5960, 6015, 2175, 1660, 5758, 4455, 5383,\n",
      "       4834, 7737, 6678, 7660, 7307, 3867, 2256, 3911, 4258, 8848, 7254,\n",
      "       5606, 7664, 5987, 8768, 1761, 8411, 1587, 8473,  714, 8329, 7740,\n",
      "       8290, 2267, 2719, 5755, 8525, 1777, 6685, 2836, 8052, 8373,  362,\n",
      "       2566, 2228, 7650, 2914, 6614, 4632, 4071, 4221, 6039, 8464, 7979,\n",
      "        577], dtype=int32), array([0.01575311, 0.02636963, 0.03595767, 0.06196811, 0.0679979 ,\n",
      "       0.09825444, 0.10086484, 0.10179234, 0.11319474, 0.11628333,\n",
      "       0.1191566 , 0.12235996, 0.12307923, 0.12399974, 0.13194562,\n",
      "       0.13399309, 0.13961558, 0.14494188, 0.14676481, 0.14676481,\n",
      "       0.14786555, 0.14796309, 0.15174966, 0.16686743, 0.16799685,\n",
      "       0.16968502, 0.17501372, 0.19884105, 0.20243983, 0.20528607,\n",
      "       0.20602508, 0.208355  , 0.21782888, 0.21902615, 0.21914844,\n",
      "       0.22032437, 0.22362725, 0.2269869 , 0.23053281, 0.23384523,\n",
      "       0.24470809, 0.2490417 , 0.24980752, 0.25055808, 0.25655675,\n",
      "       0.25668207, 0.26093227, 0.26683033, 0.26745406, 0.26832977,\n",
      "       0.26986971, 0.26999354, 0.27278176, 0.27379933, 0.27383044,\n",
      "       0.27470824, 0.2759955 , 0.277353  , 0.28353643, 0.284114  ,\n",
      "       0.28469807, 0.2878619 , 0.29417896, 0.29476705, 0.29534277,\n",
      "       0.29666176, 0.29735565, 0.300426  , 0.30358768, 0.30372363,\n",
      "       0.3079517 , 0.3089725 , 0.31044486, 0.31153727, 0.3171825 ,\n",
      "       0.31773776, 0.32201192, 0.32550687, 0.3278799 , 0.32891357,\n",
      "       0.32899985, 0.33142215, 0.33549714, 0.33971494, 0.3399603 ,\n",
      "       0.34032112, 0.34074244, 0.34111747, 0.34262636, 0.34290856,\n",
      "       0.34302753, 0.34649158, 0.35000297, 0.35169923, 0.3576358 ,\n",
      "       0.3577206 , 0.35895395, 0.36053512, 0.3615349 , 0.36632812],\n",
      "      dtype=float32))\n"
     ]
    }
   ],
   "source": [
    "# query single\n",
    "q = query_matrix[0]\n",
    "ret = index.knnQuery(q,k=K)\n",
    "print(ret)"
   ]
  },
  {
   "cell_type": "code",
   "execution_count": 14,
   "metadata": {
    "scrolled": true
   },
   "outputs": [
    {
     "name": "stdout",
     "output_type": "stream",
     "text": [
      "Computing gold-standard data\n",
      "brute-force kNN time total=9.965226 (sec), per query=0.009965 (sec)\n"
     ]
    }
   ],
   "source": [
    "# Computing gold-standard data \n",
    "print('Computing gold-standard data')\n",
    "\n",
    "start = time.time()\n",
    "\n",
    "gs = []\n",
    "\n",
    "\n",
    "query_qty = query_matrix.shape[0]\n",
    "data_qty = data_matrix.shape[0]\n",
    "\n",
    "for i in range(query_qty):\n",
    "    q = query_matrix[i,:]\n",
    "    d = numpy.log(data_matrix * (1.0/q) )\n",
    "    dist_vals = numpy.sum(data_matrix * d, axis=1)\n",
    "    tmp = [ (dist_vals[i], i) for i in range(data_qty)]\n",
    "    tmp.sort()\n",
    "    gs.append( [tmp[i][1] for i in range(K)] )\n",
    "    \n",
    "end = time.time()\n",
    "\n",
    "print('brute-force kNN time total=%f (sec), per query=%f (sec)' % \n",
    "      (end-start, float(end-start)/query_qty) )"
   ]
  },
  {
   "cell_type": "code",
   "execution_count": 13,
   "metadata": {
    "scrolled": true
   },
   "outputs": [
    {
     "name": "stdout",
     "output_type": "stream",
     "text": [
      "kNN recall 0.999300\n"
     ]
    }
   ],
   "source": [
    "# Finally computing recall\n",
    "recall=0.0\n",
    "for i in range(0, query_qty):\n",
    "  correct_set = set(gs[i])\n",
    "  ret_set = set(nbrs[i][0])\n",
    "  recall = recall + float(len(correct_set.intersection(ret_set))) / len(correct_set)\n",
    "recall = recall / query_qty\n",
    "print('kNN recall %f' % recall)"
   ]
  },
  {
   "cell_type": "code",
   "execution_count": 15,
   "metadata": {},
   "outputs": [],
   "source": [
    "# Save a meta index and the data\n",
    "index.saveIndex('dense_index_kldiv.txt', save_data=True)"
   ]
  },
  {
   "cell_type": "code",
   "execution_count": 16,
   "metadata": {},
   "outputs": [],
   "source": [
    "# Re-intitialize the library, specify the space, the type of the vector.\n",
    "newIndex = nmslib.init(method='sw-graph', space=space_name, data_type=nmslib.DataType.DENSE_VECTOR) "
   ]
  },
  {
   "cell_type": "code",
   "execution_count": 17,
   "metadata": {},
   "outputs": [],
   "source": [
    "# Re-load the index and the data\n",
    "newIndex.loadIndex('dense_index_kldiv.txt', load_data=True)"
   ]
  },
  {
   "cell_type": "code",
   "execution_count": 18,
   "metadata": {},
   "outputs": [
    {
     "name": "stdout",
     "output_type": "stream",
     "text": [
      "Setting query-time parameters {'efSearch': 100}\n",
      "kNN time total=0.051589 (sec), per query=0.000052 (sec), per query adjusted for thread number=0.000206 (sec)\n"
     ]
    }
   ],
   "source": [
    "# Setting query-time parameters and querying\n",
    "print('Setting query-time parameters', query_time_params)\n",
    "newIndex.setQueryTimeParams(query_time_params)\n",
    "\n",
    "query_qty = query_matrix.shape[0]\n",
    "start = time.time() \n",
    "new_nbrs = newIndex.knnQueryBatch(query_matrix, k = K, num_threads = num_threads)\n",
    "end = time.time() \n",
    "print('kNN time total=%f (sec), per query=%f (sec), per query adjusted for thread number=%f (sec)' % \n",
    "      (end-start, float(end-start)/query_qty, num_threads*float(end-start)/query_qty)) "
   ]
  },
  {
   "cell_type": "code",
   "execution_count": 19,
   "metadata": {},
   "outputs": [
    {
     "name": "stdout",
     "output_type": "stream",
     "text": [
      "kNN recall 0.999100\n"
     ]
    }
   ],
   "source": [
    "# Finally computing recall\n",
    "recall=0.0\n",
    "for i in range(0, query_qty):\n",
    "  correct_set = set(gs[i])\n",
    "  ret_set = set(nbrs[i][0])\n",
    "  recall = recall + float(len(correct_set.intersection(ret_set))) / len(correct_set)\n",
    "recall = recall / query_qty\n",
    "print('kNN recall %f' % recall)"
   ]
  }
 ],
 "metadata": {
  "interpreter": {
   "hash": "4499fd137f6c106dfd1717c4df6918022dd2e42707b0d7b7a01cc77a2b3169b9"
  },
  "kernelspec": {
   "display_name": "Python 3.9.13 ('.venv': venv)",
   "language": "python",
   "name": "python3"
  },
  "language_info": {
   "codemirror_mode": {
    "name": "ipython",
    "version": 3
   },
   "file_extension": ".py",
   "mimetype": "text/x-python",
   "name": "python",
   "nbconvert_exporter": "python",
   "pygments_lexer": "ipython3",
   "version": "3.9.13"
  }
 },
 "nbformat": 4,
 "nbformat_minor": 2
}
